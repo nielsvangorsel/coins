{
 "cells": [
  {
   "cell_type": "markdown",
   "metadata": {
    "slideshow": {
     "slide_type": "slide"
    }
   },
   "source": [
    "# Checking the top 100 - Market Cap\n",
    "In this notebook we will create an Excel file of the 100 crypto's with the biggest maket cap. After this we can create a new XLS file with the same code created. Now we can compare the two excel files to see the differences. These differences will be the new crypto currencies that just entered the top 100 coins with market cap."
   ]
  },
  {
   "cell_type": "markdown",
   "metadata": {
    "slideshow": {
     "slide_type": "-"
    }
   },
   "source": [
    "### The libraries we use\n",
    "In this code-block I show all the libraries I use in my python code. If you do not have one of these just install them by typing !pip install 'library name'"
   ]
  },
  {
   "cell_type": "code",
   "execution_count": 95,
   "metadata": {
    "collapsed": false,
    "slideshow": {
     "slide_type": "-"
    }
   },
   "outputs": [],
   "source": [
    "#We use beatifulsoup to parse the text from the url we use.\n",
    "from bs4 import BeautifulSoup\n",
    "import justext\n",
    "#We need the time to append a time at our backup so we are sure when it was created\n",
    "from time import gmtime, strftime\n",
    "#We need pandas to store the data in the pandas object so we can easily create an excel file. \n",
    "import pandas as pd\n",
    "#we need OS to delete the Excel file in the folder if it already excists\n",
    "import os"
   ]
  },
  {
   "cell_type": "markdown",
   "metadata": {
    "slideshow": {
     "slide_type": "slide"
    }
   },
   "source": [
    "### Script 1 - Creating a Dataframe of the data shown on coinmarketcap\n",
    "In the first script we will parse the data that is contained in the table on the website named https://coinmarketcap.com/currencies'. We will store this data in a pandas dataframe."
   ]
  },
  {
   "cell_type": "code",
   "execution_count": 103,
   "metadata": {
    "collapsed": false,
    "slideshow": {
     "slide_type": "-"
    }
   },
   "outputs": [],
   "source": [
    "def DownloadCurrencies():\n",
    "    '''This function first creates an inner list from the data gathered at the following webpage:\n",
    "    'https://coinmarketcap.com/currencies'. It downloads the arrtibutes of the 100 currencies with\n",
    "    the biggest market cap. After this it stores the inner list in a pandas object.'''\n",
    "    \n",
    "    inner_list = []\n",
    "    url = 'https://coinmarketcap.com/currencies'\n",
    "\n",
    "    r  = requests.get(url)\n",
    "    data = r.text\n",
    "    soup = BeautifulSoup(data)\n",
    "\n",
    "    #Using a triple for loop we can reach the valueble information stored in the table.\n",
    "    for table in soup.find_all('tbody'):\n",
    "        for row in table.find_all('tr'):\n",
    "            #We will store the data of one currency in this list.\n",
    "            one_row = []\n",
    "            for text in row.find_all('td'):\n",
    "                one_row.append(text.text.strip())\n",
    "            inner_list.append(one_row)\n",
    "    \n",
    "    #Creating the column names and setting the index as the name of the currency.\n",
    "    columns= [\"Rank\",\"Name\",\"Market cap\",\"Price\",\"Circulating Supply\",\"Volume\",\"% Change 24h\", \"Price graph\"]            \n",
    "    final_file = pd.DataFrame(inner_list, columns=columns)\n",
    "    final_file = final_file.drop(\"Price graph\", 1)\n",
    "    #final_file.set_index('Name', inplace=True)\n",
    "    \n",
    "    return final_file"
   ]
  },
  {
   "cell_type": "markdown",
   "metadata": {
    "slideshow": {
     "slide_type": "slide"
    }
   },
   "source": [
    "### Script 2 - Create the excel file + timestamp\n",
    "In this code block we use the script created above. We transform the pandas dataframe to a excel file and store it in the same folder as this notebook. If you run this script for the second time it will overwrite the excel file you created earlier. We also create a timestamp to be certain when it was created and how old your comparison file  is.\n"
   ]
  },
  {
   "cell_type": "code",
   "execution_count": 97,
   "metadata": {
    "collapsed": false,
    "slideshow": {
     "slide_type": "-"
    }
   },
   "outputs": [],
   "source": [
    "## WARNING: by running this script you create a new backup file! ##\n",
    "\n",
    "def CreateBackup():\n",
    "    \"\"\"By running this code you create a new backup. This will be the Excel file the script compares with to \n",
    "    check for new entries in the top 100.\"\"\"\n",
    "    #Here we create an Excel file with the 100 data stored within it\n",
    "    writer = pd.ExcelWriter('top100.xlsx')\n",
    "    #We use a try/except in case we want to overwrite the excel file we created earlier.\n",
    "    try:\n",
    "        DownloadCurrencies().to_excel(writer,'top100')\n",
    "        writer.save()\n",
    "    except IOError:\n",
    "        os.remove('top100.xlsx')\n",
    "        DownloadCurrencies().to_excel(writer,'top100')\n",
    "        writer.save()\n",
    "        \n",
    "    #Here we create a simple text file containing the timestamp\n",
    "    timestamp = strftime(\"%Y-%m-%d %H:%M:%S\", gmtime())\n",
    "    file = open(\"testfile\", \"w\")\n",
    "    file.write(timestamp)\n",
    "    file.close()\n",
    "    \n",
    "CreateBackup()"
   ]
  },
  {
   "cell_type": "markdown",
   "metadata": {
    "slideshow": {
     "slide_type": "slide"
    }
   },
   "source": [
    "### Script 3 -  Comparing the current top 100 cryptocurrencies with the back-up file we created earlier.\n",
    "This last script compares the backup excel file with the current state of the webpage. It prints all the new crypto's that just entered the top 100 in market cap!"
   ]
  },
  {
   "cell_type": "code",
   "execution_count": 140,
   "metadata": {
    "collapsed": false,
    "slideshow": {
     "slide_type": "-"
    }
   },
   "outputs": [
    {
     "name": "stdout",
     "output_type": "stream",
     "text": [
      "The new cryptos that entered the top 100 in marketcap since your last backup created on 2017-07-06 17:51:54 are stored in the dataframe below.\n"
     ]
    },
    {
     "data": {
      "text/html": [
       "<div>\n",
       "<table border=\"1\" class=\"dataframe\">\n",
       "  <thead>\n",
       "    <tr style=\"text-align: right;\">\n",
       "      <th></th>\n",
       "      <th>Rank</th>\n",
       "      <th>Name</th>\n",
       "      <th>Market cap</th>\n",
       "      <th>Price</th>\n",
       "      <th>Circulating Supply</th>\n",
       "      <th>Volume</th>\n",
       "      <th>% Change 24h</th>\n",
       "    </tr>\n",
       "  </thead>\n",
       "  <tbody>\n",
       "    <tr>\n",
       "      <th>99</th>\n",
       "      <td>100</td>\n",
       "      <td>Rubycoin</td>\n",
       "      <td>$11,889,380</td>\n",
       "      <td>$0.484978</td>\n",
       "      <td>24,515,298\\n                          RBY   \\n...</td>\n",
       "      <td>$10,337</td>\n",
       "      <td>-1.41%</td>\n",
       "    </tr>\n",
       "  </tbody>\n",
       "</table>\n",
       "</div>"
      ],
      "text/plain": [
       "   Rank      Name   Market cap      Price  \\\n",
       "99  100  Rubycoin  $11,889,380  $0.484978   \n",
       "\n",
       "                                   Circulating Supply   Volume % Change 24h  \n",
       "99  24,515,298\\n                          RBY   \\n...  $10,337       -1.41%  "
      ]
     },
     "execution_count": 140,
     "metadata": {},
     "output_type": "execute_result"
    }
   ],
   "source": [
    "def NewTop100():\n",
    "    CurrentState = DownloadCurrencies()\n",
    "    backup = pandas.read_excel('top100.xlsx')\n",
    "    \n",
    "    #Creating 2 lists with all the cryto names in both files.\n",
    "    Current_cryptos = [name for name in CurrentState['Name']]\n",
    "    backup_cryptos = [name for name in backup['Name']]\n",
    "\n",
    "    new_cryptos = []\n",
    "    for name in Current_cryptos:\n",
    "        if name not in backup_cryptos:\n",
    "            new_cryptos.append(name)\n",
    "#CurrentState['Name']\n",
    "\n",
    "    final_df = CurrentState.loc[CurrentState['Name'].isin(new_cryptos)]\n",
    "    \n",
    "    #Also printing the time the backup was created so we know how old it is!\n",
    "    file_object = open(\"testfile\", \"r\")\n",
    "    The_Time = file_object.read()\n",
    "    \n",
    "    print \"The new cryptos that entered the top 100 in marketcap since your last backup created on\", The_Time, \"are stored in the dataframe below.\"\n",
    "    return final_df\n",
    "    \n",
    "NewTop100()"
   ]
  }
 ],
 "metadata": {
  "celltoolbar": "Slideshow",
  "kernelspec": {
   "display_name": "Python 2",
   "language": "python",
   "name": "python2"
  },
  "language_info": {
   "codemirror_mode": {
    "name": "ipython",
    "version": 2
   },
   "file_extension": ".py",
   "mimetype": "text/x-python",
   "name": "python",
   "nbconvert_exporter": "python",
   "pygments_lexer": "ipython2",
   "version": "2.7.13"
  }
 },
 "nbformat": 4,
 "nbformat_minor": 2
}
